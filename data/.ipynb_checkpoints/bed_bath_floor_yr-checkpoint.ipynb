{
 "cells": [
  {
   "cell_type": "code",
   "execution_count": 198,
   "metadata": {},
   "outputs": [],
   "source": [
    "import numpy as np\n",
    "import matplotlib.pyplot as plt\n",
    "import pandas as pd\n",
    "import seaborn as sns\n",
    "import statsmodels.api as sm\n",
    "from statsmodels.formula.api import ols\n",
    "from scipy import stats\n",
    "%matplotlib inline\n",
    "from sklearn.preprocessing import PolynomialFeatures"
   ]
  },
  {
   "cell_type": "markdown",
   "metadata": {},
   "source": [
    "Inspecting Data"
   ]
  },
  {
   "cell_type": "code",
   "execution_count": 249,
   "metadata": {},
   "outputs": [
    {
     "data": {
      "text/plain": [
       "<AxesSubplot:>"
      ]
     },
     "execution_count": 249,
     "metadata": {},
     "output_type": "execute_result"
    },
    {
     "data": {
      "image/png": "[encoded data removed]",
      "text/plain": [
       "<Figure size 792x648 with 2 Axes>"
      ]
     },
     "metadata": {
      "needs_background": "light"
     },
     "output_type": "display_data"
    }
   ],
   "source": [
    "df= pd.read_csv('kc_house_data.csv')\n",
    "corr=df.corr()\n",
    "mask = np.triu(np.ones_like(corr, dtype=bool))\n",
    "f, ax = plt.subplots(figsize=(11, 9))\n",
    "cmap = sns.diverging_palette(230, 20, as_cmap=True)\n",
    "sns.heatmap(corr, mask=mask, cmap=cmap, vmax=.3, center=0,\n",
    "            square=True, linewidths=.5, cbar_kws={\"shrink\": .5})"
   ]
  },
  {
   "cell_type": "code",
   "execution_count": 250,
   "metadata": {},
   "outputs": [
    {
     "data": {
      "text/html": [
       "<div>\n",
       "<style scoped>\n",
       "    .dataframe tbody tr th:only-of-type {\n",
       "        vertical-align: middle;\n",
       "    }\n",
       "\n",
       "    .dataframe tbody tr th {\n",
       "        vertical-align: top;\n",
       "    }\n",
       "\n",
       "    .dataframe thead th {\n",
       "        text-align: right;\n",
       "    }\n",
       "</style>\n",
       "<table border=\"1\" class=\"dataframe\">\n",
       "  <thead>\n",
       "    <tr style=\"text-align: right;\">\n",
       "      <th></th>\n",
       "      <th>id</th>\n",
       "      <th>price</th>\n",
       "      <th>bedrooms</th>\n",
       "      <th>bathrooms</th>\n",
       "      <th>sqft_living</th>\n",
       "      <th>sqft_lot</th>\n",
       "      <th>floors</th>\n",
       "      <th>waterfront</th>\n",
       "      <th>view</th>\n",
       "      <th>condition</th>\n",
       "      <th>grade</th>\n",
       "      <th>sqft_above</th>\n",
       "      <th>yr_built</th>\n",
       "      <th>yr_renovated</th>\n",
       "      <th>zipcode</th>\n",
       "      <th>lat</th>\n",
       "      <th>long</th>\n",
       "      <th>sqft_living15</th>\n",
       "      <th>sqft_lot15</th>\n",
       "    </tr>\n",
       "  </thead>\n",
       "  <tbody>\n",
       "    <tr>\n",
       "      <th>id</th>\n",
       "      <td>1.000000</td>\n",
       "      <td>-0.016772</td>\n",
       "      <td>0.001150</td>\n",
       "      <td>0.005162</td>\n",
       "      <td>-0.012241</td>\n",
       "      <td>-0.131911</td>\n",
       "      <td>0.018608</td>\n",
       "      <td>-0.004176</td>\n",
       "      <td>0.011592</td>\n",
       "      <td>-0.023803</td>\n",
       "      <td>0.008188</td>\n",
       "      <td>-0.010799</td>\n",
       "      <td>0.021617</td>\n",
       "      <td>-0.012010</td>\n",
       "      <td>-0.008211</td>\n",
       "      <td>-0.001798</td>\n",
       "      <td>0.020672</td>\n",
       "      <td>-0.002701</td>\n",
       "      <td>-0.138557</td>\n",
       "    </tr>\n",
       "    <tr>\n",
       "      <th>price</th>\n",
       "      <td>-0.016772</td>\n",
       "      <td>1.000000</td>\n",
       "      <td>0.308787</td>\n",
       "      <td>0.525906</td>\n",
       "      <td>0.701917</td>\n",
       "      <td>0.089876</td>\n",
       "      <td>0.256804</td>\n",
       "      <td>0.276295</td>\n",
       "      <td>0.395734</td>\n",
       "      <td>0.036056</td>\n",
       "      <td>0.667951</td>\n",
       "      <td>0.605368</td>\n",
       "      <td>0.053953</td>\n",
       "      <td>0.129599</td>\n",
       "      <td>-0.053402</td>\n",
       "      <td>0.306692</td>\n",
       "      <td>0.022036</td>\n",
       "      <td>0.585241</td>\n",
       "      <td>0.082845</td>\n",
       "    </tr>\n",
       "    <tr>\n",
       "      <th>bedrooms</th>\n",
       "      <td>0.001150</td>\n",
       "      <td>0.308787</td>\n",
       "      <td>1.000000</td>\n",
       "      <td>0.514508</td>\n",
       "      <td>0.578212</td>\n",
       "      <td>0.032471</td>\n",
       "      <td>0.177944</td>\n",
       "      <td>-0.002386</td>\n",
       "      <td>0.078523</td>\n",
       "      <td>0.026496</td>\n",
       "      <td>0.356563</td>\n",
       "      <td>0.479386</td>\n",
       "      <td>0.155670</td>\n",
       "      <td>0.018495</td>\n",
       "      <td>-0.154092</td>\n",
       "      <td>-0.009951</td>\n",
       "      <td>0.132054</td>\n",
       "      <td>0.393406</td>\n",
       "      <td>0.030690</td>\n",
       "    </tr>\n",
       "    <tr>\n",
       "      <th>bathrooms</th>\n",
       "      <td>0.005162</td>\n",
       "      <td>0.525906</td>\n",
       "      <td>0.514508</td>\n",
       "      <td>1.000000</td>\n",
       "      <td>0.755758</td>\n",
       "      <td>0.088373</td>\n",
       "      <td>0.502582</td>\n",
       "      <td>0.067282</td>\n",
       "      <td>0.186451</td>\n",
       "      <td>-0.126479</td>\n",
       "      <td>0.665838</td>\n",
       "      <td>0.686668</td>\n",
       "      <td>0.507173</td>\n",
       "      <td>0.051050</td>\n",
       "      <td>-0.204786</td>\n",
       "      <td>0.024280</td>\n",
       "      <td>0.224903</td>\n",
       "      <td>0.569884</td>\n",
       "      <td>0.088303</td>\n",
       "    </tr>\n",
       "    <tr>\n",
       "      <th>sqft_living</th>\n",
       "      <td>-0.012241</td>\n",
       "      <td>0.701917</td>\n",
       "      <td>0.578212</td>\n",
       "      <td>0.755758</td>\n",
       "      <td>1.000000</td>\n",
       "      <td>0.173453</td>\n",
       "      <td>0.353953</td>\n",
       "      <td>0.110230</td>\n",
       "      <td>0.282532</td>\n",
       "      <td>-0.059445</td>\n",
       "      <td>0.762779</td>\n",
       "      <td>0.876448</td>\n",
       "      <td>0.318152</td>\n",
       "      <td>0.055660</td>\n",
       "      <td>-0.199802</td>\n",
       "      <td>0.052155</td>\n",
       "      <td>0.241214</td>\n",
       "      <td>0.756402</td>\n",
       "      <td>0.184342</td>\n",
       "    </tr>\n",
       "    <tr>\n",
       "      <th>sqft_lot</th>\n",
       "      <td>-0.131911</td>\n",
       "      <td>0.089876</td>\n",
       "      <td>0.032471</td>\n",
       "      <td>0.088373</td>\n",
       "      <td>0.173453</td>\n",
       "      <td>1.000000</td>\n",
       "      <td>-0.004814</td>\n",
       "      <td>0.023143</td>\n",
       "      <td>0.075298</td>\n",
       "      <td>-0.008830</td>\n",
       "      <td>0.114731</td>\n",
       "      <td>0.184139</td>\n",
       "      <td>0.052946</td>\n",
       "      <td>0.004513</td>\n",
       "      <td>-0.129586</td>\n",
       "      <td>-0.085514</td>\n",
       "      <td>0.230227</td>\n",
       "      <td>0.144763</td>\n",
       "      <td>0.718204</td>\n",
       "    </tr>\n",
       "    <tr>\n",
       "      <th>floors</th>\n",
       "      <td>0.018608</td>\n",
       "      <td>0.256804</td>\n",
       "      <td>0.177944</td>\n",
       "      <td>0.502582</td>\n",
       "      <td>0.353953</td>\n",
       "      <td>-0.004814</td>\n",
       "      <td>1.000000</td>\n",
       "      <td>0.021883</td>\n",
       "      <td>0.028436</td>\n",
       "      <td>-0.264075</td>\n",
       "      <td>0.458794</td>\n",
       "      <td>0.523989</td>\n",
       "      <td>0.489193</td>\n",
       "      <td>0.003535</td>\n",
       "      <td>-0.059541</td>\n",
       "      <td>0.049239</td>\n",
       "      <td>0.125943</td>\n",
       "      <td>0.280102</td>\n",
       "      <td>-0.010722</td>\n",
       "    </tr>\n",
       "    <tr>\n",
       "      <th>waterfront</th>\n",
       "      <td>-0.004176</td>\n",
       "      <td>0.276295</td>\n",
       "      <td>-0.002386</td>\n",
       "      <td>0.067282</td>\n",
       "      <td>0.110230</td>\n",
       "      <td>0.023143</td>\n",
       "      <td>0.021883</td>\n",
       "      <td>1.000000</td>\n",
       "      <td>0.406654</td>\n",
       "      <td>0.017642</td>\n",
       "      <td>0.087383</td>\n",
       "      <td>0.075463</td>\n",
       "      <td>-0.026079</td>\n",
       "      <td>0.087244</td>\n",
       "      <td>0.031057</td>\n",
       "      <td>-0.012772</td>\n",
       "      <td>-0.039864</td>\n",
       "      <td>0.088860</td>\n",
       "      <td>0.032002</td>\n",
       "    </tr>\n",
       "    <tr>\n",
       "      <th>view</th>\n",
       "      <td>0.011592</td>\n",
       "      <td>0.395734</td>\n",
       "      <td>0.078523</td>\n",
       "      <td>0.186451</td>\n",
       "      <td>0.282532</td>\n",
       "      <td>0.075298</td>\n",
       "      <td>0.028436</td>\n",
       "      <td>0.406654</td>\n",
       "      <td>1.000000</td>\n",
       "      <td>0.045735</td>\n",
       "      <td>0.249727</td>\n",
       "      <td>0.166299</td>\n",
       "      <td>-0.054564</td>\n",
       "      <td>0.100964</td>\n",
       "      <td>0.085277</td>\n",
       "      <td>0.006141</td>\n",
       "      <td>-0.077894</td>\n",
       "      <td>0.279561</td>\n",
       "      <td>0.073332</td>\n",
       "    </tr>\n",
       "    <tr>\n",
       "      <th>condition</th>\n",
       "      <td>-0.023803</td>\n",
       "      <td>0.036056</td>\n",
       "      <td>0.026496</td>\n",
       "      <td>-0.126479</td>\n",
       "      <td>-0.059445</td>\n",
       "      <td>-0.008830</td>\n",
       "      <td>-0.264075</td>\n",
       "      <td>0.017642</td>\n",
       "      <td>0.045735</td>\n",
       "      <td>1.000000</td>\n",
       "      <td>-0.146896</td>\n",
       "      <td>-0.158904</td>\n",
       "      <td>-0.361592</td>\n",
       "      <td>-0.061858</td>\n",
       "      <td>0.002888</td>\n",
       "      <td>-0.015102</td>\n",
       "      <td>-0.105877</td>\n",
       "      <td>-0.093072</td>\n",
       "      <td>-0.003126</td>\n",
       "    </tr>\n",
       "    <tr>\n",
       "      <th>grade</th>\n",
       "      <td>0.008188</td>\n",
       "      <td>0.667951</td>\n",
       "      <td>0.356563</td>\n",
       "      <td>0.665838</td>\n",
       "      <td>0.762779</td>\n",
       "      <td>0.114731</td>\n",
       "      <td>0.458794</td>\n",
       "      <td>0.087383</td>\n",
       "      <td>0.249727</td>\n",
       "      <td>-0.146896</td>\n",
       "      <td>1.000000</td>\n",
       "      <td>0.756073</td>\n",
       "      <td>0.447865</td>\n",
       "      <td>0.016669</td>\n",
       "      <td>-0.185771</td>\n",
       "      <td>0.113575</td>\n",
       "      <td>0.200341</td>\n",
       "      <td>0.713867</td>\n",
       "      <td>0.120981</td>\n",
       "    </tr>\n",
       "    <tr>\n",
       "      <th>sqft_above</th>\n",
       "      <td>-0.010799</td>\n",
       "      <td>0.605368</td>\n",
       "      <td>0.479386</td>\n",
       "      <td>0.686668</td>\n",
       "      <td>0.876448</td>\n",
       "      <td>0.184139</td>\n",
       "      <td>0.523989</td>\n",
       "      <td>0.075463</td>\n",
       "      <td>0.166299</td>\n",
       "      <td>-0.158904</td>\n",
       "      <td>0.756073</td>\n",
       "      <td>1.000000</td>\n",
       "      <td>0.424037</td>\n",
       "      <td>0.022137</td>\n",
       "      <td>-0.261570</td>\n",
       "      <td>-0.001199</td>\n",
       "      <td>0.344842</td>\n",
       "      <td>0.731767</td>\n",
       "      <td>0.195077</td>\n",
       "    </tr>\n",
       "    <tr>\n",
       "      <th>yr_built</th>\n",
       "      <td>0.021617</td>\n",
       "      <td>0.053953</td>\n",
       "      <td>0.155670</td>\n",
       "      <td>0.507173</td>\n",
       "      <td>0.318152</td>\n",
       "      <td>0.052946</td>\n",
       "      <td>0.489193</td>\n",
       "      <td>-0.026079</td>\n",
       "      <td>-0.054564</td>\n",
       "      <td>-0.361592</td>\n",
       "      <td>0.447865</td>\n",
       "      <td>0.424037</td>\n",
       "      <td>1.000000</td>\n",
       "      <td>-0.225209</td>\n",
       "      <td>-0.347210</td>\n",
       "      <td>-0.148370</td>\n",
       "      <td>0.409993</td>\n",
       "      <td>0.326377</td>\n",
       "      <td>0.070777</td>\n",
       "    </tr>\n",
       "    <tr>\n",
       "      <th>yr_renovated</th>\n",
       "      <td>-0.012010</td>\n",
       "      <td>0.129599</td>\n",
       "      <td>0.018495</td>\n",
       "      <td>0.051050</td>\n",
       "      <td>0.055660</td>\n",
       "      <td>0.004513</td>\n",
       "      <td>0.003535</td>\n",
       "      <td>0.087244</td>\n",
       "      <td>0.100964</td>\n",
       "      <td>-0.061858</td>\n",
       "      <td>0.016669</td>\n",
       "      <td>0.022137</td>\n",
       "      <td>-0.225209</td>\n",
       "      <td>1.000000</td>\n",
       "      <td>0.069846</td>\n",
       "      <td>0.032145</td>\n",
       "      <td>-0.072156</td>\n",
       "      <td>-0.000247</td>\n",
       "      <td>0.003852</td>\n",
       "    </tr>\n",
       "    <tr>\n",
       "      <th>zipcode</th>\n",
       "      <td>-0.008211</td>\n",
       "      <td>-0.053402</td>\n",
       "      <td>-0.154092</td>\n",
       "      <td>-0.204786</td>\n",
       "      <td>-0.199802</td>\n",
       "      <td>-0.129586</td>\n",
       "      <td>-0.059541</td>\n",
       "      <td>0.031057</td>\n",
       "      <td>0.085277</td>\n",
       "      <td>0.002888</td>\n",
       "      <td>-0.185771</td>\n",
       "      <td>-0.261570</td>\n",
       "      <td>-0.347210</td>\n",
       "      <td>0.069846</td>\n",
       "      <td>1.000000</td>\n",
       "      <td>0.266742</td>\n",
       "      <td>-0.564259</td>\n",
       "      <td>-0.279299</td>\n",
       "      <td>-0.147294</td>\n",
       "    </tr>\n",
       "    <tr>\n",
       "      <th>lat</th>\n",
       "      <td>-0.001798</td>\n",
       "      <td>0.306692</td>\n",
       "      <td>-0.009951</td>\n",
       "      <td>0.024280</td>\n",
       "      <td>0.052155</td>\n",
       "      <td>-0.085514</td>\n",
       "      <td>0.049239</td>\n",
       "      <td>-0.012772</td>\n",
       "      <td>0.006141</td>\n",
       "      <td>-0.015102</td>\n",
       "      <td>0.113575</td>\n",
       "      <td>-0.001199</td>\n",
       "      <td>-0.148370</td>\n",
       "      <td>0.032145</td>\n",
       "      <td>0.266742</td>\n",
       "      <td>1.000000</td>\n",
       "      <td>-0.135371</td>\n",
       "      <td>0.048679</td>\n",
       "      <td>-0.086139</td>\n",
       "    </tr>\n",
       "    <tr>\n",
       "      <th>long</th>\n",
       "      <td>0.020672</td>\n",
       "      <td>0.022036</td>\n",
       "      <td>0.132054</td>\n",
       "      <td>0.224903</td>\n",
       "      <td>0.241214</td>\n",
       "      <td>0.230227</td>\n",
       "      <td>0.125943</td>\n",
       "      <td>-0.039864</td>\n",
       "      <td>-0.077894</td>\n",
       "      <td>-0.105877</td>\n",
       "      <td>0.200341</td>\n",
       "      <td>0.344842</td>\n",
       "      <td>0.409993</td>\n",
       "      <td>-0.072156</td>\n",
       "      <td>-0.564259</td>\n",
       "      <td>-0.135371</td>\n",
       "      <td>1.000000</td>\n",
       "      <td>0.335626</td>\n",
       "      <td>0.255586</td>\n",
       "    </tr>\n",
       "    <tr>\n",
       "      <th>sqft_living15</th>\n",
       "      <td>-0.002701</td>\n",
       "      <td>0.585241</td>\n",
       "      <td>0.393406</td>\n",
       "      <td>0.569884</td>\n",
       "      <td>0.756402</td>\n",
       "      <td>0.144763</td>\n",
       "      <td>0.280102</td>\n",
       "      <td>0.088860</td>\n",
       "      <td>0.279561</td>\n",
       "      <td>-0.093072</td>\n",
       "      <td>0.713867</td>\n",
       "      <td>0.731767</td>\n",
       "      <td>0.326377</td>\n",
       "      <td>-0.000247</td>\n",
       "      <td>-0.279299</td>\n",
       "      <td>0.048679</td>\n",
       "      <td>0.335626</td>\n",
       "      <td>1.000000</td>\n",
       "      <td>0.183515</td>\n",
       "    </tr>\n",
       "    <tr>\n",
       "      <th>sqft_lot15</th>\n",
       "      <td>-0.138557</td>\n",
       "      <td>0.082845</td>\n",
       "      <td>0.030690</td>\n",
       "      <td>0.088303</td>\n",
       "      <td>0.184342</td>\n",
       "      <td>0.718204</td>\n",
       "      <td>-0.010722</td>\n",
       "      <td>0.032002</td>\n",
       "      <td>0.073332</td>\n",
       "      <td>-0.003126</td>\n",
       "      <td>0.120981</td>\n",
       "      <td>0.195077</td>\n",
       "      <td>0.070777</td>\n",
       "      <td>0.003852</td>\n",
       "      <td>-0.147294</td>\n",
       "      <td>-0.086139</td>\n",
       "      <td>0.255586</td>\n",
       "      <td>0.183515</td>\n",
       "      <td>1.000000</td>\n",
       "    </tr>\n",
       "  </tbody>\n",
       "</table>\n",
       "</div>"
      ],
      "text/plain": [
       "                     id     price  bedrooms  bathrooms  sqft_living  sqft_lot  \\\n",
       "id             1.000000 -0.016772  0.001150   0.005162    -0.012241 -0.131911   \n",
       "price         -0.016772  1.000000  0.308787   0.525906     0.701917  0.089876   \n",
       "bedrooms       0.001150  0.308787  1.000000   0.514508     0.578212  0.032471   \n",
       "bathrooms      0.005162  0.525906  0.514508   1.000000     0.755758  0.088373   \n",
       "sqft_living   -0.012241  0.701917  0.578212   0.755758     1.000000  0.173453   \n",
       "sqft_lot      -0.131911  0.089876  0.032471   0.088373     0.173453  1.000000   \n",
       "floors         0.018608  0.256804  0.177944   0.502582     0.353953 -0.004814   \n",
       "waterfront    -0.004176  0.276295 -0.002386   0.067282     0.110230  0.023143   \n",
       "view           0.011592  0.395734  0.078523   0.186451     0.282532  0.075298   \n",
       "condition     -0.023803  0.036056  0.026496  -0.126479    -0.059445 -0.008830   \n",
       "grade          0.008188  0.667951  0.356563   0.665838     0.762779  0.114731   \n",
       "sqft_above    -0.010799  0.605368  0.479386   0.686668     0.876448  0.184139   \n",
       "yr_built       0.021617  0.053953  0.155670   0.507173     0.318152  0.052946   \n",
       "yr_renovated  -0.012010  0.129599  0.018495   0.051050     0.055660  0.004513   \n",
       "zipcode       -0.008211 -0.053402 -0.154092  -0.204786    -0.199802 -0.129586   \n",
       "lat           -0.001798  0.306692 -0.009951   0.024280     0.052155 -0.085514   \n",
       "long           0.020672  0.022036  0.132054   0.224903     0.241214  0.230227   \n",
       "sqft_living15 -0.002701  0.585241  0.393406   0.569884     0.756402  0.144763   \n",
       "sqft_lot15    -0.138557  0.082845  0.030690   0.088303     0.184342  0.718204   \n",
       "\n",
       "                 floors  waterfront      view  condition     grade  \\\n",
       "id             0.018608   -0.004176  0.011592  -0.023803  0.008188   \n",
       "price          0.256804    0.276295  0.395734   0.036056  0.667951   \n",
       "bedrooms       0.177944   -0.002386  0.078523   0.026496  0.356563   \n",
       "bathrooms      0.502582    0.067282  0.186451  -0.126479  0.665838   \n",
       "sqft_living    0.353953    0.110230  0.282532  -0.059445  0.762779   \n",
       "sqft_lot      -0.004814    0.023143  0.075298  -0.008830  0.114731   \n",
       "floors         1.000000    0.021883  0.028436  -0.264075  0.458794   \n",
       "waterfront     0.021883    1.000000  0.406654   0.017642  0.087383   \n",
       "view           0.028436    0.406654  1.000000   0.045735  0.249727   \n",
       "condition     -0.264075    0.017642  0.045735   1.000000 -0.146896   \n",
       "grade          0.458794    0.087383  0.249727  -0.146896  1.000000   \n",
       "sqft_above     0.523989    0.075463  0.166299  -0.158904  0.756073   \n",
       "yr_built       0.489193   -0.026079 -0.054564  -0.361592  0.447865   \n",
       "yr_renovated   0.003535    0.087244  0.100964  -0.061858  0.016669   \n",
       "zipcode       -0.059541    0.031057  0.085277   0.002888 -0.185771   \n",
       "lat            0.049239   -0.012772  0.006141  -0.015102  0.113575   \n",
       "long           0.125943   -0.039864 -0.077894  -0.105877  0.200341   \n",
       "sqft_living15  0.280102    0.088860  0.279561  -0.093072  0.713867   \n",
       "sqft_lot15    -0.010722    0.032002  0.073332  -0.003126  0.120981   \n",
       "\n",
       "               sqft_above  yr_built  yr_renovated   zipcode       lat  \\\n",
       "id              -0.010799  0.021617     -0.012010 -0.008211 -0.001798   \n",
       "price            0.605368  0.053953      0.129599 -0.053402  0.306692   \n",
       "bedrooms         0.479386  0.155670      0.018495 -0.154092 -0.009951   \n",
       "bathrooms        0.686668  0.507173      0.051050 -0.204786  0.024280   \n",
       "sqft_living      0.876448  0.318152      0.055660 -0.199802  0.052155   \n",
       "sqft_lot         0.184139  0.052946      0.004513 -0.129586 -0.085514   \n",
       "floors           0.523989  0.489193      0.003535 -0.059541  0.049239   \n",
       "waterfront       0.075463 -0.026079      0.087244  0.031057 -0.012772   \n",
       "view             0.166299 -0.054564      0.100964  0.085277  0.006141   \n",
       "condition       -0.158904 -0.361592     -0.061858  0.002888 -0.015102   \n",
       "grade            0.756073  0.447865      0.016669 -0.185771  0.113575   \n",
       "sqft_above       1.000000  0.424037      0.022137 -0.261570 -0.001199   \n",
       "yr_built         0.424037  1.000000     -0.225209 -0.347210 -0.148370   \n",
       "yr_renovated     0.022137 -0.225209      1.000000  0.069846  0.032145   \n",
       "zipcode         -0.261570 -0.347210      0.069846  1.000000  0.266742   \n",
       "lat             -0.001199 -0.148370      0.032145  0.266742  1.000000   \n",
       "long             0.344842  0.409993     -0.072156 -0.564259 -0.135371   \n",
       "sqft_living15    0.731767  0.326377     -0.000247 -0.279299  0.048679   \n",
       "sqft_lot15       0.195077  0.070777      0.003852 -0.147294 -0.086139   \n",
       "\n",
       "                   long  sqft_living15  sqft_lot15  \n",
       "id             0.020672      -0.002701   -0.138557  \n",
       "price          0.022036       0.585241    0.082845  \n",
       "bedrooms       0.132054       0.393406    0.030690  \n",
       "bathrooms      0.224903       0.569884    0.088303  \n",
       "sqft_living    0.241214       0.756402    0.184342  \n",
       "sqft_lot       0.230227       0.144763    0.718204  \n",
       "floors         0.125943       0.280102   -0.010722  \n",
       "waterfront    -0.039864       0.088860    0.032002  \n",
       "view          -0.077894       0.279561    0.073332  \n",
       "condition     -0.105877      -0.093072   -0.003126  \n",
       "grade          0.200341       0.713867    0.120981  \n",
       "sqft_above     0.344842       0.731767    0.195077  \n",
       "yr_built       0.409993       0.326377    0.070777  \n",
       "yr_renovated  -0.072156      -0.000247    0.003852  \n",
       "zipcode       -0.564259      -0.279299   -0.147294  \n",
       "lat           -0.135371       0.048679   -0.086139  \n",
       "long           1.000000       0.335626    0.255586  \n",
       "sqft_living15  0.335626       1.000000    0.183515  \n",
       "sqft_lot15     0.255586       0.183515    1.000000  "
      ]
     },
     "execution_count": 250,
     "metadata": {},
     "output_type": "execute_result"
    }
   ],
   "source": [
    "df.corr()\n",
    "\n",
    "\n"
   ]
  },
  {
   "cell_type": "code",
   "execution_count": 251,
   "metadata": {},
   "outputs": [
    {
     "data": {
      "text/html": [
       "<div>\n",
       "<style scoped>\n",
       "    .dataframe tbody tr th:only-of-type {\n",
       "        vertical-align: middle;\n",
       "    }\n",
       "\n",
       "    .dataframe tbody tr th {\n",
       "        vertical-align: top;\n",
       "    }\n",
       "\n",
       "    .dataframe thead th {\n",
       "        text-align: right;\n",
       "    }\n",
       "</style>\n",
       "<table border=\"1\" class=\"dataframe\">\n",
       "  <thead>\n",
       "    <tr style=\"text-align: right;\">\n",
       "      <th></th>\n",
       "      <th>id</th>\n",
       "      <th>price</th>\n",
       "      <th>bedrooms</th>\n",
       "      <th>bathrooms</th>\n",
       "      <th>sqft_living</th>\n",
       "      <th>sqft_lot</th>\n",
       "      <th>floors</th>\n",
       "      <th>waterfront</th>\n",
       "      <th>view</th>\n",
       "      <th>condition</th>\n",
       "      <th>grade</th>\n",
       "      <th>sqft_above</th>\n",
       "      <th>yr_built</th>\n",
       "      <th>yr_renovated</th>\n",
       "      <th>zipcode</th>\n",
       "      <th>lat</th>\n",
       "      <th>long</th>\n",
       "      <th>sqft_living15</th>\n",
       "      <th>sqft_lot15</th>\n",
       "    </tr>\n",
       "  </thead>\n",
       "  <tbody>\n",
       "    <tr>\n",
       "      <th>count</th>\n",
       "      <td>2.159700e+04</td>\n",
       "      <td>2.159700e+04</td>\n",
       "      <td>21597.000000</td>\n",
       "      <td>21597.000000</td>\n",
       "      <td>21597.000000</td>\n",
       "      <td>2.159700e+04</td>\n",
       "      <td>21597.000000</td>\n",
       "      <td>19221.000000</td>\n",
       "      <td>21534.000000</td>\n",
       "      <td>21597.000000</td>\n",
       "      <td>21597.000000</td>\n",
       "      <td>21597.000000</td>\n",
       "      <td>21597.000000</td>\n",
       "      <td>17755.000000</td>\n",
       "      <td>21597.000000</td>\n",
       "      <td>21597.000000</td>\n",
       "      <td>21597.000000</td>\n",
       "      <td>21597.000000</td>\n",
       "      <td>21597.000000</td>\n",
       "    </tr>\n",
       "    <tr>\n",
       "      <th>mean</th>\n",
       "      <td>4.580474e+09</td>\n",
       "      <td>5.402966e+05</td>\n",
       "      <td>3.373200</td>\n",
       "      <td>2.115826</td>\n",
       "      <td>2080.321850</td>\n",
       "      <td>1.509941e+04</td>\n",
       "      <td>1.494096</td>\n",
       "      <td>0.007596</td>\n",
       "      <td>0.233863</td>\n",
       "      <td>3.409825</td>\n",
       "      <td>7.657915</td>\n",
       "      <td>1788.596842</td>\n",
       "      <td>1970.999676</td>\n",
       "      <td>83.636778</td>\n",
       "      <td>98077.951845</td>\n",
       "      <td>47.560093</td>\n",
       "      <td>-122.213982</td>\n",
       "      <td>1986.620318</td>\n",
       "      <td>12758.283512</td>\n",
       "    </tr>\n",
       "    <tr>\n",
       "      <th>std</th>\n",
       "      <td>2.876736e+09</td>\n",
       "      <td>3.673681e+05</td>\n",
       "      <td>0.926299</td>\n",
       "      <td>0.768984</td>\n",
       "      <td>918.106125</td>\n",
       "      <td>4.141264e+04</td>\n",
       "      <td>0.539683</td>\n",
       "      <td>0.086825</td>\n",
       "      <td>0.765686</td>\n",
       "      <td>0.650546</td>\n",
       "      <td>1.173200</td>\n",
       "      <td>827.759761</td>\n",
       "      <td>29.375234</td>\n",
       "      <td>399.946414</td>\n",
       "      <td>53.513072</td>\n",
       "      <td>0.138552</td>\n",
       "      <td>0.140724</td>\n",
       "      <td>685.230472</td>\n",
       "      <td>27274.441950</td>\n",
       "    </tr>\n",
       "    <tr>\n",
       "      <th>min</th>\n",
       "      <td>1.000102e+06</td>\n",
       "      <td>7.800000e+04</td>\n",
       "      <td>1.000000</td>\n",
       "      <td>0.500000</td>\n",
       "      <td>370.000000</td>\n",
       "      <td>5.200000e+02</td>\n",
       "      <td>1.000000</td>\n",
       "      <td>0.000000</td>\n",
       "      <td>0.000000</td>\n",
       "      <td>1.000000</td>\n",
       "      <td>3.000000</td>\n",
       "      <td>370.000000</td>\n",
       "      <td>1900.000000</td>\n",
       "      <td>0.000000</td>\n",
       "      <td>98001.000000</td>\n",
       "      <td>47.155900</td>\n",
       "      <td>-122.519000</td>\n",
       "      <td>399.000000</td>\n",
       "      <td>651.000000</td>\n",
       "    </tr>\n",
       "    <tr>\n",
       "      <th>25%</th>\n",
       "      <td>2.123049e+09</td>\n",
       "      <td>3.220000e+05</td>\n",
       "      <td>3.000000</td>\n",
       "      <td>1.750000</td>\n",
       "      <td>1430.000000</td>\n",
       "      <td>5.040000e+03</td>\n",
       "      <td>1.000000</td>\n",
       "      <td>0.000000</td>\n",
       "      <td>0.000000</td>\n",
       "      <td>3.000000</td>\n",
       "      <td>7.000000</td>\n",
       "      <td>1190.000000</td>\n",
       "      <td>1951.000000</td>\n",
       "      <td>0.000000</td>\n",
       "      <td>98033.000000</td>\n",
       "      <td>47.471100</td>\n",
       "      <td>-122.328000</td>\n",
       "      <td>1490.000000</td>\n",
       "      <td>5100.000000</td>\n",
       "    </tr>\n",
       "    <tr>\n",
       "      <th>50%</th>\n",
       "      <td>3.904930e+09</td>\n",
       "      <td>4.500000e+05</td>\n",
       "      <td>3.000000</td>\n",
       "      <td>2.250000</td>\n",
       "      <td>1910.000000</td>\n",
       "      <td>7.618000e+03</td>\n",
       "      <td>1.500000</td>\n",
       "      <td>0.000000</td>\n",
       "      <td>0.000000</td>\n",
       "      <td>3.000000</td>\n",
       "      <td>7.000000</td>\n",
       "      <td>1560.000000</td>\n",
       "      <td>1975.000000</td>\n",
       "      <td>0.000000</td>\n",
       "      <td>98065.000000</td>\n",
       "      <td>47.571800</td>\n",
       "      <td>-122.231000</td>\n",
       "      <td>1840.000000</td>\n",
       "      <td>7620.000000</td>\n",
       "    </tr>\n",
       "    <tr>\n",
       "      <th>75%</th>\n",
       "      <td>7.308900e+09</td>\n",
       "      <td>6.450000e+05</td>\n",
       "      <td>4.000000</td>\n",
       "      <td>2.500000</td>\n",
       "      <td>2550.000000</td>\n",
       "      <td>1.068500e+04</td>\n",
       "      <td>2.000000</td>\n",
       "      <td>0.000000</td>\n",
       "      <td>0.000000</td>\n",
       "      <td>4.000000</td>\n",
       "      <td>8.000000</td>\n",
       "      <td>2210.000000</td>\n",
       "      <td>1997.000000</td>\n",
       "      <td>0.000000</td>\n",
       "      <td>98118.000000</td>\n",
       "      <td>47.678000</td>\n",
       "      <td>-122.125000</td>\n",
       "      <td>2360.000000</td>\n",
       "      <td>10083.000000</td>\n",
       "    </tr>\n",
       "    <tr>\n",
       "      <th>max</th>\n",
       "      <td>9.900000e+09</td>\n",
       "      <td>7.700000e+06</td>\n",
       "      <td>33.000000</td>\n",
       "      <td>8.000000</td>\n",
       "      <td>13540.000000</td>\n",
       "      <td>1.651359e+06</td>\n",
       "      <td>3.500000</td>\n",
       "      <td>1.000000</td>\n",
       "      <td>4.000000</td>\n",
       "      <td>5.000000</td>\n",
       "      <td>13.000000</td>\n",
       "      <td>9410.000000</td>\n",
       "      <td>2015.000000</td>\n",
       "      <td>2015.000000</td>\n",
       "      <td>98199.000000</td>\n",
       "      <td>47.777600</td>\n",
       "      <td>-121.315000</td>\n",
       "      <td>6210.000000</td>\n",
       "      <td>871200.000000</td>\n",
       "    </tr>\n",
       "  </tbody>\n",
       "</table>\n",
       "</div>"
      ],
      "text/plain": [
       "                 id         price      bedrooms     bathrooms   sqft_living  \\\n",
       "count  2.159700e+04  2.159700e+04  21597.000000  21597.000000  21597.000000   \n",
       "mean   4.580474e+09  5.402966e+05      3.373200      2.115826   2080.321850   \n",
       "std    2.876736e+09  3.673681e+05      0.926299      0.768984    918.106125   \n",
       "min    1.000102e+06  7.800000e+04      1.000000      0.500000    370.000000   \n",
       "25%    2.123049e+09  3.220000e+05      3.000000      1.750000   1430.000000   \n",
       "50%    3.904930e+09  4.500000e+05      3.000000      2.250000   1910.000000   \n",
       "75%    7.308900e+09  6.450000e+05      4.000000      2.500000   2550.000000   \n",
       "max    9.900000e+09  7.700000e+06     33.000000      8.000000  13540.000000   \n",
       "\n",
       "           sqft_lot        floors    waterfront          view     condition  \\\n",
       "count  2.159700e+04  21597.000000  19221.000000  21534.000000  21597.000000   \n",
       "mean   1.509941e+04      1.494096      0.007596      0.233863      3.409825   \n",
       "std    4.141264e+04      0.539683      0.086825      0.765686      0.650546   \n",
       "min    5.200000e+02      1.000000      0.000000      0.000000      1.000000   \n",
       "25%    5.040000e+03      1.000000      0.000000      0.000000      3.000000   \n",
       "50%    7.618000e+03      1.500000      0.000000      0.000000      3.000000   \n",
       "75%    1.068500e+04      2.000000      0.000000      0.000000      4.000000   \n",
       "max    1.651359e+06      3.500000      1.000000      4.000000      5.000000   \n",
       "\n",
       "              grade    sqft_above      yr_built  yr_renovated       zipcode  \\\n",
       "count  21597.000000  21597.000000  21597.000000  17755.000000  21597.000000   \n",
       "mean       7.657915   1788.596842   1970.999676     83.636778  98077.951845   \n",
       "std        1.173200    827.759761     29.375234    399.946414     53.513072   \n",
       "min        3.000000    370.000000   1900.000000      0.000000  98001.000000   \n",
       "25%        7.000000   1190.000000   1951.000000      0.000000  98033.000000   \n",
       "50%        7.000000   1560.000000   1975.000000      0.000000  98065.000000   \n",
       "75%        8.000000   2210.000000   1997.000000      0.000000  98118.000000   \n",
       "max       13.000000   9410.000000   2015.000000   2015.000000  98199.000000   \n",
       "\n",
       "                lat          long  sqft_living15     sqft_lot15  \n",
       "count  21597.000000  21597.000000   21597.000000   21597.000000  \n",
       "mean      47.560093   -122.213982    1986.620318   12758.283512  \n",
       "std        0.138552      0.140724     685.230472   27274.441950  \n",
       "min       47.155900   -122.519000     399.000000     651.000000  \n",
       "25%       47.471100   -122.328000    1490.000000    5100.000000  \n",
       "50%       47.571800   -122.231000    1840.000000    7620.000000  \n",
       "75%       47.678000   -122.125000    2360.000000   10083.000000  \n",
       "max       47.777600   -121.315000    6210.000000  871200.000000  "
      ]
     },
     "execution_count": 251,
     "metadata": {},
     "output_type": "execute_result"
    }
   ],
   "source": [
    "df.describe()"
   ]
  },
  {
   "cell_type": "code",
   "execution_count": 252,
   "metadata": {},
   "outputs": [
    {
     "name": "stdout",
     "output_type": "stream",
     "text": [
      "<class 'pandas.core.frame.DataFrame'>\n",
      "RangeIndex: 21597 entries, 0 to 21596\n",
      "Data columns (total 21 columns):\n",
      " #   Column         Non-Null Count  Dtype  \n",
      "---  ------         --------------  -----  \n",
      " 0   id             21597 non-null  int64  \n",
      " 1   date           21597 non-null  object \n",
      " 2   price          21597 non-null  float64\n",
      " 3   bedrooms       21597 non-null  int64  \n",
      " 4   bathrooms      21597 non-null  float64\n",
      " 5   sqft_living    21597 non-null  int64  \n",
      " 6   sqft_lot       21597 non-null  int64  \n",
      " 7   floors         21597 non-null  float64\n",
      " 8   waterfront     19221 non-null  float64\n",
      " 9   view           21534 non-null  float64\n",
      " 10  condition      21597 non-null  int64  \n",
      " 11  grade          21597 non-null  int64  \n",
      " 12  sqft_above     21597 non-null  int64  \n",
      " 13  sqft_basement  21597 non-null  object \n",
      " 14  yr_built       21597 non-null  int64  \n",
      " 15  yr_renovated   17755 non-null  float64\n",
      " 16  zipcode        21597 non-null  int64  \n",
      " 17  lat            21597 non-null  float64\n",
      " 18  long           21597 non-null  float64\n",
      " 19  sqft_living15  21597 non-null  int64  \n",
      " 20  sqft_lot15     21597 non-null  int64  \n",
      "dtypes: float64(8), int64(11), object(2)\n",
      "memory usage: 3.5+ MB\n"
     ]
    }
   ],
   "source": [
    "df.info()"
   ]
  },
  {
   "cell_type": "code",
   "execution_count": 253,
   "metadata": {},
   "outputs": [
    {
     "data": {
      "text/html": [
       "<div>\n",
       "<style scoped>\n",
       "    .dataframe tbody tr th:only-of-type {\n",
       "        vertical-align: middle;\n",
       "    }\n",
       "\n",
       "    .dataframe tbody tr th {\n",
       "        vertical-align: top;\n",
       "    }\n",
       "\n",
       "    .dataframe thead th {\n",
       "        text-align: right;\n",
       "    }\n",
       "</style>\n",
       "<table border=\"1\" class=\"dataframe\">\n",
       "  <thead>\n",
       "    <tr style=\"text-align: right;\">\n",
       "      <th></th>\n",
       "      <th>price</th>\n",
       "      <th>sqft_living</th>\n",
       "      <th>bedrooms</th>\n",
       "      <th>bathrooms</th>\n",
       "      <th>floors</th>\n",
       "      <th>grade</th>\n",
       "      <th>yr_built</th>\n",
       "      <th>yr_renovated</th>\n",
       "      <th>waterfront</th>\n",
       "    </tr>\n",
       "  </thead>\n",
       "  <tbody>\n",
       "    <tr>\n",
       "      <th>0</th>\n",
       "      <td>221900.0</td>\n",
       "      <td>1180</td>\n",
       "      <td>3</td>\n",
       "      <td>1.00</td>\n",
       "      <td>1.0</td>\n",
       "      <td>7</td>\n",
       "      <td>1955</td>\n",
       "      <td>0.0</td>\n",
       "      <td>NaN</td>\n",
       "    </tr>\n",
       "    <tr>\n",
       "      <th>1</th>\n",
       "      <td>538000.0</td>\n",
       "      <td>2570</td>\n",
       "      <td>3</td>\n",
       "      <td>2.25</td>\n",
       "      <td>2.0</td>\n",
       "      <td>7</td>\n",
       "      <td>1951</td>\n",
       "      <td>1991.0</td>\n",
       "      <td>0.0</td>\n",
       "    </tr>\n",
       "    <tr>\n",
       "      <th>2</th>\n",
       "      <td>180000.0</td>\n",
       "      <td>770</td>\n",
       "      <td>2</td>\n",
       "      <td>1.00</td>\n",
       "      <td>1.0</td>\n",
       "      <td>6</td>\n",
       "      <td>1933</td>\n",
       "      <td>NaN</td>\n",
       "      <td>0.0</td>\n",
       "    </tr>\n",
       "    <tr>\n",
       "      <th>3</th>\n",
       "      <td>604000.0</td>\n",
       "      <td>1960</td>\n",
       "      <td>4</td>\n",
       "      <td>3.00</td>\n",
       "      <td>1.0</td>\n",
       "      <td>7</td>\n",
       "      <td>1965</td>\n",
       "      <td>0.0</td>\n",
       "      <td>0.0</td>\n",
       "    </tr>\n",
       "    <tr>\n",
       "      <th>4</th>\n",
       "      <td>510000.0</td>\n",
       "      <td>1680</td>\n",
       "      <td>3</td>\n",
       "      <td>2.00</td>\n",
       "      <td>1.0</td>\n",
       "      <td>8</td>\n",
       "      <td>1987</td>\n",
       "      <td>0.0</td>\n",
       "      <td>0.0</td>\n",
       "    </tr>\n",
       "    <tr>\n",
       "      <th>...</th>\n",
       "      <td>...</td>\n",
       "      <td>...</td>\n",
       "      <td>...</td>\n",
       "      <td>...</td>\n",
       "      <td>...</td>\n",
       "      <td>...</td>\n",
       "      <td>...</td>\n",
       "      <td>...</td>\n",
       "      <td>...</td>\n",
       "    </tr>\n",
       "    <tr>\n",
       "      <th>21592</th>\n",
       "      <td>360000.0</td>\n",
       "      <td>1530</td>\n",
       "      <td>3</td>\n",
       "      <td>2.50</td>\n",
       "      <td>3.0</td>\n",
       "      <td>8</td>\n",
       "      <td>2009</td>\n",
       "      <td>0.0</td>\n",
       "      <td>0.0</td>\n",
       "    </tr>\n",
       "    <tr>\n",
       "      <th>21593</th>\n",
       "      <td>400000.0</td>\n",
       "      <td>2310</td>\n",
       "      <td>4</td>\n",
       "      <td>2.50</td>\n",
       "      <td>2.0</td>\n",
       "      <td>8</td>\n",
       "      <td>2014</td>\n",
       "      <td>0.0</td>\n",
       "      <td>0.0</td>\n",
       "    </tr>\n",
       "    <tr>\n",
       "      <th>21594</th>\n",
       "      <td>402101.0</td>\n",
       "      <td>1020</td>\n",
       "      <td>2</td>\n",
       "      <td>0.75</td>\n",
       "      <td>2.0</td>\n",
       "      <td>7</td>\n",
       "      <td>2009</td>\n",
       "      <td>0.0</td>\n",
       "      <td>0.0</td>\n",
       "    </tr>\n",
       "    <tr>\n",
       "      <th>21595</th>\n",
       "      <td>400000.0</td>\n",
       "      <td>1600</td>\n",
       "      <td>3</td>\n",
       "      <td>2.50</td>\n",
       "      <td>2.0</td>\n",
       "      <td>8</td>\n",
       "      <td>2004</td>\n",
       "      <td>0.0</td>\n",
       "      <td>NaN</td>\n",
       "    </tr>\n",
       "    <tr>\n",
       "      <th>21596</th>\n",
       "      <td>325000.0</td>\n",
       "      <td>1020</td>\n",
       "      <td>2</td>\n",
       "      <td>0.75</td>\n",
       "      <td>2.0</td>\n",
       "      <td>7</td>\n",
       "      <td>2008</td>\n",
       "      <td>0.0</td>\n",
       "      <td>0.0</td>\n",
       "    </tr>\n",
       "  </tbody>\n",
       "</table>\n",
       "<p>21597 rows × 9 columns</p>\n",
       "</div>"
      ],
      "text/plain": [
       "          price  sqft_living  bedrooms  bathrooms  floors  grade  yr_built  \\\n",
       "0      221900.0         1180         3       1.00     1.0      7      1955   \n",
       "1      538000.0         2570         3       2.25     2.0      7      1951   \n",
       "2      180000.0          770         2       1.00     1.0      6      1933   \n",
       "3      604000.0         1960         4       3.00     1.0      7      1965   \n",
       "4      510000.0         1680         3       2.00     1.0      8      1987   \n",
       "...         ...          ...       ...        ...     ...    ...       ...   \n",
       "21592  360000.0         1530         3       2.50     3.0      8      2009   \n",
       "21593  400000.0         2310         4       2.50     2.0      8      2014   \n",
       "21594  402101.0         1020         2       0.75     2.0      7      2009   \n",
       "21595  400000.0         1600         3       2.50     2.0      8      2004   \n",
       "21596  325000.0         1020         2       0.75     2.0      7      2008   \n",
       "\n",
       "       yr_renovated  waterfront  \n",
       "0               0.0         NaN  \n",
       "1            1991.0         0.0  \n",
       "2               NaN         0.0  \n",
       "3               0.0         0.0  \n",
       "4               0.0         0.0  \n",
       "...             ...         ...  \n",
       "21592           0.0         0.0  \n",
       "21593           0.0         0.0  \n",
       "21594           0.0         0.0  \n",
       "21595           0.0         NaN  \n",
       "21596           0.0         0.0  \n",
       "\n",
       "[21597 rows x 9 columns]"
      ]
     },
     "execution_count": 253,
     "metadata": {},
     "output_type": "execute_result"
    }
   ],
   "source": [
    "df=df[['price','sqft_living','bedrooms','bathrooms','floors','grade','yr_built','yr_renovated','waterfront']]\n",
    "df"
   ]
  },
  {
   "cell_type": "code",
   "execution_count": 254,
   "metadata": {},
   "outputs": [
    {
     "data": {
      "text/plain": [
       "0        0.0\n",
       "1        1.0\n",
       "2        0.0\n",
       "3        0.0\n",
       "4        0.0\n",
       "        ... \n",
       "21592    0.0\n",
       "21593    0.0\n",
       "21594    0.0\n",
       "21595    0.0\n",
       "21596    0.0\n",
       "Name: yr_renovated, Length: 21597, dtype: float64"
      ]
     },
     "execution_count": 254,
     "metadata": {},
     "output_type": "execute_result"
    }
   ],
   "source": [
    "df.isnull().sum()\n",
    "df['yr_renovated'] = df['yr_renovated'].fillna(0)\n",
    "df.isnull().sum()\n",
    "df.loc[df['yr_renovated'] > 0] = 1\n",
    "df['yr_renovated']"
   ]
  },
  {
   "cell_type": "code",
   "execution_count": 255,
   "metadata": {},
   "outputs": [],
   "source": [
    "df['waterfront'] = df['waterfront'].fillna(0)"
   ]
  },
  {
   "cell_type": "code",
   "execution_count": 256,
   "metadata": {},
   "outputs": [
    {
     "data": {
      "text/plain": [
       "array([0., 1.])"
      ]
     },
     "execution_count": 256,
     "metadata": {},
     "output_type": "execute_result"
    }
   ],
   "source": [
    "df['waterfront'].unique()"
   ]
  },
  {
   "cell_type": "markdown",
   "metadata": {},
   "source": [
    "REMOVING OUTLIERS "
   ]
  },
  {
   "cell_type": "code",
   "execution_count": 257,
   "metadata": {},
   "outputs": [],
   "source": [
    "value_counts_bed=df['bedrooms'].value_counts()\n",
    "to_remove = value_counts_bed[value_counts_bed <=50].index\n",
    "df = df[~df.bedrooms.isin(to_remove)]"
   ]
  },
  {
   "cell_type": "code",
   "execution_count": 258,
   "metadata": {},
   "outputs": [],
   "source": [
    "value_counts_bath=df['bathrooms'].value_counts()\n",
    "to_remove_bath = value_counts_bath[value_counts_bath <=80].index\n",
    "df = df[~df.bathrooms.isin(to_remove_bath)]"
   ]
  },
  {
   "cell_type": "code",
   "execution_count": 259,
   "metadata": {},
   "outputs": [],
   "source": [
    "value_counts_floors=df['floors'].value_counts()\n",
    "to_remove_floor = value_counts_floors[value_counts_floors <=10].index\n",
    "df = df[~df.floors.isin(to_remove_floor)]"
   ]
  },
  {
   "cell_type": "code",
   "execution_count": 260,
   "metadata": {},
   "outputs": [
    {
     "name": "stdout",
     "output_type": "stream",
     "text": [
      "           price  sqft_living  bedrooms  bathrooms  floors  grade  yr_built  \\\n",
      "241     210000.0          830         2       1.00     1.0      6      1940   \n",
      "376     450000.0         1640         3       1.75     1.0      7      1940   \n",
      "671     435000.0         1700         4       2.50     1.0      7      1940   \n",
      "748     517500.0         1430         3       1.50     1.0      7      1940   \n",
      "986     260000.0         1480         3       1.00     1.5      6      1940   \n",
      "...          ...          ...       ...        ...     ...    ...       ...   \n",
      "19320   345000.0         1080         2       1.00     1.0      7      1940   \n",
      "19321   874950.0         1080         2       1.00     1.0      7      1940   \n",
      "19397   445000.0         1150         2       2.00     1.0      7      1940   \n",
      "19606  1150000.0         1760         3       1.75     2.0      7      1940   \n",
      "21224   525000.0         1030         1       1.50     1.0      8      1940   \n",
      "\n",
      "       yr_renovated  waterfront  \n",
      "241             0.0         0.0  \n",
      "376             0.0         0.0  \n",
      "671             0.0         0.0  \n",
      "748             0.0         0.0  \n",
      "986             0.0         0.0  \n",
      "...             ...         ...  \n",
      "19320           0.0         0.0  \n",
      "19321           0.0         0.0  \n",
      "19397           0.0         0.0  \n",
      "19606           0.0         1.0  \n",
      "21224           0.0         0.0  \n",
      "\n",
      "[144 rows x 9 columns]\n"
     ]
    }
   ],
   "source": [
    "print(df.loc[df['yr_built'] == 1940])\n",
    "df.drop(df[df.price == 1150000.0].index, inplace=True) "
   ]
  },
  {
   "cell_type": "code",
   "execution_count": 261,
   "metadata": {},
   "outputs": [],
   "source": [
    "df.drop(df[df.price == 7060000.0].index, inplace=True) "
   ]
  },
  {
   "cell_type": "code",
   "execution_count": 262,
   "metadata": {},
   "outputs": [],
   "source": [
    "df.drop(df[df.price == 4490000.0].index, inplace=True) "
   ]
  },
  {
   "cell_type": "code",
   "execution_count": 269,
   "metadata": {},
   "outputs": [
    {
     "data": {
      "text/plain": [
       "price           0\n",
       "sqft_living     0\n",
       "bedrooms        0\n",
       "bathrooms       0\n",
       "floors          0\n",
       "grade           0\n",
       "yr_built        0\n",
       "yr_renovated    0\n",
       "waterfront      0\n",
       "dtype: int64"
      ]
     },
     "execution_count": 269,
     "metadata": {},
     "output_type": "execute_result"
    }
   ],
   "source": [
    "for x in ['price']:\n",
    "    q75,q25 = np.percentile(df.loc[:,x],[75,25])\n",
    "    intr_qr = q75-q25\n",
    "\n",
    "    max = q75+(1.5*intr_qr)\n",
    "    min = q25-(1.5*intr_qr)\n",
    "\n",
    "    df.loc[df[x] < min,x] = np.nan\n",
    "    df.loc[df[x] > max,x] = np.nan\n",
    "df.isnull().sum()\n",
    "df = df.dropna(axis = 0)\n",
    "df.isnull().sum()\n"
   ]
  },
  {
   "cell_type": "code",
   "execution_count": 290,
   "metadata": {},
   "outputs": [
    {
     "data": {
      "text/plain": [
       "array([[<AxesSubplot:title={'center':'bedrooms'}>,\n",
       "        <AxesSubplot:title={'center':'bathrooms'}>],\n",
       "       [<AxesSubplot:title={'center':'floors'}>,\n",
       "        <AxesSubplot:title={'center':'yr_built'}>],\n",
       "       [<AxesSubplot:title={'center':'grade'}>,\n",
       "        <AxesSubplot:title={'center':'sqft_living'}>]], dtype=object)"
      ]
     },
     "execution_count": 290,
     "metadata": {},
     "output_type": "execute_result"
    },
    {
     "data": {
      "image/png": "[encoded data removed]",
      "text/plain": [
       "<Figure size 576x576 with 6 Axes>"
      ]
     },
     "metadata": {
      "needs_background": "light"
     },
     "output_type": "display_data"
    }
   ],
   "source": [
    "data_log = pd.DataFrame([])\n",
    "data_log['bedrooms'] = np.log(df['bedrooms'])\n",
    "data_log['bathrooms'] = np.log(df['bathrooms'])\n",
    "data_log['floors'] = np.log(df['floors'])\n",
    "data_log['yr_built'] = np.log(df['yr_built'])\n",
    "data_log['grade'] = np.log(df['grade'])\n",
    "data_log['sqft_living'] = np.log(df['sqft_living'])\n",
    "data_log.hist(figsize=(8,8))"
   ]
  },
  {
   "cell_type": "code",
   "execution_count": 309,
   "metadata": {},
   "outputs": [
    {
     "data": {
      "text/html": [
       "<table class=\"simpletable\">\n",
       "<caption>OLS Regression Results</caption>\n",
       "<tr>\n",
       "  <th>Dep. Variable:</th>          <td>grade</td>      <th>  R-squared:         </th> <td>   0.459</td> \n",
       "</tr>\n",
       "<tr>\n",
       "  <th>Model:</th>                   <td>OLS</td>       <th>  Adj. R-squared:    </th> <td>   0.459</td> \n",
       "</tr>\n",
       "<tr>\n",
       "  <th>Method:</th>             <td>Least Squares</td>  <th>  F-statistic:       </th> <td>1.708e+04</td>\n",
       "</tr>\n",
       "<tr>\n",
       "  <th>Date:</th>             <td>Tue, 06 Jul 2021</td> <th>  Prob (F-statistic):</th>  <td>  0.00</td>  \n",
       "</tr>\n",
       "<tr>\n",
       "  <th>Time:</th>                 <td>12:43:53</td>     <th>  Log-Likelihood:    </th> <td> -31576.</td> \n",
       "</tr>\n",
       "<tr>\n",
       "  <th>No. Observations:</th>      <td> 20142</td>      <th>  AIC:               </th> <td>6.316e+04</td>\n",
       "</tr>\n",
       "<tr>\n",
       "  <th>Df Residuals:</th>          <td> 20140</td>      <th>  BIC:               </th> <td>6.317e+04</td>\n",
       "</tr>\n",
       "<tr>\n",
       "  <th>Df Model:</th>              <td>     1</td>      <th>                     </th>     <td> </td>    \n",
       "</tr>\n",
       "<tr>\n",
       "  <th>Covariance Type:</th>      <td>nonrobust</td>    <th>                     </th>     <td> </td>    \n",
       "</tr>\n",
       "</table>\n",
       "<table class=\"simpletable\">\n",
       "<tr>\n",
       "      <td></td>         <th>coef</th>     <th>std err</th>      <th>t</th>      <th>P>|t|</th>  <th>[0.025</th>    <th>0.975]</th>  \n",
       "</tr>\n",
       "<tr>\n",
       "  <th>Intercept</th> <td>    5.0000</td> <td>    0.019</td> <td>  260.104</td> <td> 0.000</td> <td>    4.962</td> <td>    5.038</td>\n",
       "</tr>\n",
       "<tr>\n",
       "  <th>price</th>     <td> 5.068e-06</td> <td> 3.88e-08</td> <td>  130.684</td> <td> 0.000</td> <td> 4.99e-06</td> <td> 5.14e-06</td>\n",
       "</tr>\n",
       "</table>\n",
       "<table class=\"simpletable\">\n",
       "<tr>\n",
       "  <th>Omnibus:</th>       <td>5432.399</td> <th>  Durbin-Watson:     </th> <td>   1.941</td> \n",
       "</tr>\n",
       "<tr>\n",
       "  <th>Prob(Omnibus):</th>  <td> 0.000</td>  <th>  Jarque-Bera (JB):  </th> <td>15668.038</td>\n",
       "</tr>\n",
       "<tr>\n",
       "  <th>Skew:</th>           <td>-1.416</td>  <th>  Prob(JB):          </th> <td>    0.00</td> \n",
       "</tr>\n",
       "<tr>\n",
       "  <th>Kurtosis:</th>       <td> 6.263</td>  <th>  Cond. No.          </th> <td>1.17e+06</td> \n",
       "</tr>\n",
       "</table><br/><br/>Notes:<br/>[1] Standard Errors assume that the covariance matrix of the errors is correctly specified.<br/>[2] The condition number is large, 1.17e+06. This might indicate that there are<br/>strong multicollinearity or other numerical problems."
      ],
      "text/plain": [
       "<class 'statsmodels.iolib.summary.Summary'>\n",
       "\"\"\"\n",
       "                            OLS Regression Results                            \n",
       "==============================================================================\n",
       "Dep. Variable:                  grade   R-squared:                       0.459\n",
       "Model:                            OLS   Adj. R-squared:                  0.459\n",
       "Method:                 Least Squares   F-statistic:                 1.708e+04\n",
       "Date:                Tue, 06 Jul 2021   Prob (F-statistic):               0.00\n",
       "Time:                        12:43:53   Log-Likelihood:                -31576.\n",
       "No. Observations:               20142   AIC:                         6.316e+04\n",
       "Df Residuals:                   20140   BIC:                         6.317e+04\n",
       "Df Model:                           1                                         \n",
       "Covariance Type:            nonrobust                                         \n",
       "==============================================================================\n",
       "                 coef    std err          t      P>|t|      [0.025      0.975]\n",
       "------------------------------------------------------------------------------\n",
       "Intercept      5.0000      0.019    260.104      0.000       4.962       5.038\n",
       "price       5.068e-06   3.88e-08    130.684      0.000    4.99e-06    5.14e-06\n",
       "==============================================================================\n",
       "Omnibus:                     5432.399   Durbin-Watson:                   1.941\n",
       "Prob(Omnibus):                  0.000   Jarque-Bera (JB):            15668.038\n",
       "Skew:                          -1.416   Prob(JB):                         0.00\n",
       "Kurtosis:                       6.263   Cond. No.                     1.17e+06\n",
       "==============================================================================\n",
       "\n",
       "Notes:\n",
       "[1] Standard Errors assume that the covariance matrix of the errors is correctly specified.\n",
       "[2] The condition number is large, 1.17e+06. This might indicate that there are\n",
       "strong multicollinearity or other numerical problems.\n",
       "\"\"\""
      ]
     },
     "execution_count": 309,
     "metadata": {},
     "output_type": "execute_result"
    }
   ],
   "source": [
    "f = 'grade~price'\n",
    "model = ols(formula=f, data=df).fit()\n",
    "model.summary()"
   ]
  },
  {
   "cell_type": "code",
   "execution_count": 310,
   "metadata": {},
   "outputs": [
    {
     "data": {
      "image/png": "[encoded data removed]",
      "text/plain": [
       "<Figure size 432x432 with 9 Axes>"
      ]
     },
     "metadata": {
      "needs_background": "light"
     },
     "output_type": "display_data"
    }
   ],
   "source": [
    "df[['bedrooms', 'bathrooms', 'floors', 'yr_built','yr_renovated','grade','waterfront','sqft_living',]].hist(figsize  = [6, 6]); "
   ]
  },
  {
   "cell_type": "code",
   "execution_count": 311,
   "metadata": {},
   "outputs": [
    {
     "data": {
      "image/png": "[encoded data removed]",
      "text/plain": [
       "<Figure size 432x288 with 1 Axes>"
      ]
     },
     "metadata": {
      "needs_background": "light"
     },
     "output_type": "display_data"
    }
   ],
   "source": [
    "ax = sns.boxplot(x=\"price\", data=df)"
   ]
  },
  {
   "cell_type": "code",
   "execution_count": 312,
   "metadata": {},
   "outputs": [
    {
     "data": {
      "image/png": "[encoded data removed]",
      "text/plain": [
       "<Figure size 432x288 with 1 Axes>"
      ]
     },
     "metadata": {
      "needs_background": "light"
     },
     "output_type": "display_data"
    }
   ],
   "source": [
    "plt.scatter(df['bedrooms'], df['price'], color='green')\n",
    "plt.title('Bedrooms and Price', fontsize=14)\n",
    "plt.xlabel('Number of Bedrooms', fontsize=14)\n",
    "plt.ylabel('House Price', fontsize=14)\n",
    "plt.grid(True)\n",
    "plt.show()"
   ]
  },
  {
   "cell_type": "code",
   "execution_count": 313,
   "metadata": {},
   "outputs": [
    {
     "data": {
      "text/plain": [
       "<seaborn.axisgrid.JointGrid at 0x1db58df9b80>"
      ]
     },
     "execution_count": 313,
     "metadata": {},
     "output_type": "execute_result"
    },
    {
     "data": {
      "image/png": "[encoded data removed]",
      "text/plain": [
       "<Figure size 432x432 with 3 Axes>"
      ]
     },
     "metadata": {
      "needs_background": "light"
     },
     "output_type": "display_data"
    }
   ],
   "source": [
    "sns.jointplot(data=df, x=\"bedrooms\", y=\"price\", kind=\"reg\")"
   ]
  },
  {
   "cell_type": "code",
   "execution_count": 314,
   "metadata": {},
   "outputs": [
    {
     "data": {
      "text/plain": [
       "<seaborn.axisgrid.JointGrid at 0x1db58cbdf10>"
      ]
     },
     "execution_count": 314,
     "metadata": {},
     "output_type": "execute_result"
    },
    {
     "data": {
      "image/png": "[encoded data removed]",
      "text/plain": [
       "<Figure size 432x432 with 3 Axes>"
      ]
     },
     "metadata": {
      "needs_background": "light"
     },
     "output_type": "display_data"
    }
   ],
   "source": [
    "sns.jointplot(data=df, x=\"grade\", y=\"price\", kind=\"reg\")"
   ]
  },
  {
   "cell_type": "code",
   "execution_count": 315,
   "metadata": {},
   "outputs": [
    {
     "data": {
      "text/plain": [
       "<seaborn.axisgrid.JointGrid at 0x1db591993a0>"
      ]
     },
     "execution_count": 315,
     "metadata": {},
     "output_type": "execute_result"
    },
    {
     "data": {
      "image/png": "[encoded data removed]",
      "text/plain": [
       "<Figure size 432x432 with 3 Axes>"
      ]
     },
     "metadata": {
      "needs_background": "light"
     },
     "output_type": "display_data"
    }
   ],
   "source": [
    "sns.jointplot(data=df, x=\"bathrooms\", y=\"price\", kind=\"reg\")"
   ]
  },
  {
   "cell_type": "code",
   "execution_count": 316,
   "metadata": {},
   "outputs": [
    {
     "data": {
      "text/plain": [
       "<seaborn.axisgrid.JointGrid at 0x1db58c4c670>"
      ]
     },
     "execution_count": 316,
     "metadata": {},
     "output_type": "execute_result"
    },
    {
     "data": {
      "image/png": "[encoded data removed]",
      "text/plain": [
       "<Figure size 432x432 with 3 Axes>"
      ]
     },
     "metadata": {
      "needs_background": "light"
     },
     "output_type": "display_data"
    }
   ],
   "source": [
    "sns.jointplot(data=df, x=\"floors\", y=\"price\", kind=\"reg\")"
   ]
  },
  {
   "cell_type": "code",
   "execution_count": 317,
   "metadata": {},
   "outputs": [
    {
     "data": {
      "text/plain": [
       "<seaborn.axisgrid.JointGrid at 0x1db56b29430>"
      ]
     },
     "execution_count": 317,
     "metadata": {},
     "output_type": "execute_result"
    },
    {
     "data": {
      "image/png": "[encoded data removed]",
      "text/plain": [
       "<Figure size 432x432 with 3 Axes>"
      ]
     },
     "metadata": {
      "needs_background": "light"
     },
     "output_type": "display_data"
    }
   ],
   "source": [
    "sns.jointplot(data=df, x=\"yr_built\", y=\"price\", kind=\"reg\")"
   ]
  },
  {
   "cell_type": "code",
   "execution_count": 318,
   "metadata": {},
   "outputs": [
    {
     "data": {
      "text/plain": [
       "<seaborn.axisgrid.JointGrid at 0x1db5a71abe0>"
      ]
     },
     "execution_count": 318,
     "metadata": {},
     "output_type": "execute_result"
    },
    {
     "data": {
      "image/png": "[encoded data removed]",
      "text/plain": [
       "<Figure size 432x432 with 3 Axes>"
      ]
     },
     "metadata": {
      "needs_background": "light"
     },
     "output_type": "display_data"
    }
   ],
   "source": [
    "sns.jointplot(data=df, x=\"yr_renovated\", y=\"price\", kind=\"reg\")"
   ]
  },
  {
   "cell_type": "code",
   "execution_count": 319,
   "metadata": {},
   "outputs": [
    {
     "data": {
      "image/png": "[encoded data removed]",
      "text/plain": [
       "<Figure size 432x288 with 1 Axes>"
      ]
     },
     "metadata": {
      "needs_background": "light"
     },
     "output_type": "display_data"
    }
   ],
   "source": [
    "plt.scatter(df['bathrooms'], df['price'], color='blue')\n",
    "plt.title('Bathrooms and Price', fontsize=14)\n",
    "plt.xlabel('Number of Bathrooms', fontsize=14)\n",
    "plt.ylabel('House Price', fontsize=14)\n",
    "plt.grid(True)\n",
    "plt.show()"
   ]
  },
  {
   "cell_type": "code",
   "execution_count": 320,
   "metadata": {},
   "outputs": [
    {
     "data": {
      "image/png": "[encoded data removed]",
      "text/plain": [
       "<Figure size 432x288 with 1 Axes>"
      ]
     },
     "metadata": {
      "needs_background": "light"
     },
     "output_type": "display_data"
    }
   ],
   "source": [
    "plt.scatter(df['floors'], df['price'], color='red')\n",
    "plt.title('Floors and Price', fontsize=14)\n",
    "plt.xlabel('Number of Floors', fontsize=14)\n",
    "plt.ylabel('House Price', fontsize=14)\n",
    "plt.grid(True)\n",
    "plt.show()"
   ]
  },
  {
   "cell_type": "code",
   "execution_count": 321,
   "metadata": {},
   "outputs": [
    {
     "data": {
      "image/png": "[encoded data removed]",
      "text/plain": [
       "<Figure size 432x288 with 1 Axes>"
      ]
     },
     "metadata": {
      "needs_background": "light"
     },
     "output_type": "display_data"
    }
   ],
   "source": [
    "plt.scatter(df['yr_built'], df['price'], color='orange')\n",
    "plt.title('Year Built and Price', fontsize=14)\n",
    "plt.xlabel('Year Built', fontsize=14)\n",
    "plt.ylabel('House Price', fontsize=14)\n",
    "plt.grid(True)\n",
    "plt.show()"
   ]
  },
  {
   "cell_type": "code",
   "execution_count": 322,
   "metadata": {},
   "outputs": [
    {
     "data": {
      "image/png": "[encoded data removed]",
      "text/plain": [
       "<Figure size 432x288 with 1 Axes>"
      ]
     },
     "metadata": {
      "needs_background": "light"
     },
     "output_type": "display_data"
    }
   ],
   "source": [
    "plt.scatter(df['yr_renovated'], df['price'], color='purple')\n",
    "plt.title('Year Renovated and Price', fontsize=14)\n",
    "plt.xlabel('Year Renovated', fontsize=14)\n",
    "plt.ylabel('House Price', fontsize=14)\n",
    "plt.grid(True)\n",
    "plt.show()"
   ]
  },
  {
   "cell_type": "code",
   "execution_count": null,
   "metadata": {},
   "outputs": [],
   "source": []
  },
  {
   "cell_type": "code",
   "execution_count": null,
   "metadata": {},
   "outputs": [],
   "source": []
  },
  {
   "cell_type": "code",
   "execution_count": null,
   "metadata": {},
   "outputs": [],
   "source": []
  }
 ],
 "metadata": {
  "kernelspec": {
   "display_name": "Python 3",
   "language": "python",
   "name": "python3"
  },
  "language_info": {
   "codemirror_mode": {
    "name": "ipython",
    "version": 3
   },
   "file_extension": ".py",
   "mimetype": "text/x-python",
   "name": "python",
   "nbconvert_exporter": "python",
   "pygments_lexer": "ipython3",
   "version": "3.8.5"
  }
 },
 "nbformat": 4,
 "nbformat_minor": 4
}
